{
 "cells": [
  {
   "cell_type": "code",
   "execution_count": 10,
   "metadata": {},
   "outputs": [
    {
     "name": "stdout",
     "output_type": "stream",
     "text": [
      "your str length: 5\n"
     ]
    }
   ],
   "source": [
    "name = input(\"enter your Name:\")\n",
    "print(\"your str length:\",len(name))"
   ]
  },
  {
   "cell_type": "code",
   "execution_count": 9,
   "metadata": {},
   "outputs": [
    {
     "name": "stdout",
     "output_type": "stream",
     "text": [
      "4\n"
     ]
    }
   ],
   "source": [
    "str = (\"$ mt name $ is $ bansi$\")\n",
    "print(str.count(\"$\"))"
   ]
  },
  {
   "cell_type": "code",
   "execution_count": 16,
   "metadata": {},
   "outputs": [
    {
     "name": "stdout",
     "output_type": "stream",
     "text": [
      "can not drive\n"
     ]
    }
   ],
   "source": [
    "age = 89\n",
    "if (age >= 18 and age <=80):\n",
    "    print(\"can drive\")\n",
    "\n",
    "    '''if (age >= 80):\n",
    "        print(\"cannot drive\")\n",
    "    else:\n",
    "        print(\"can drive\")'''\n",
    "    \n",
    "else:\n",
    "    print(\"can not drive\")\n"
   ]
  },
  {
   "cell_type": "code",
   "execution_count": 33,
   "metadata": {},
   "outputs": [
    {
     "name": "stdout",
     "output_type": "stream",
     "text": [
      "odd\n"
     ]
    }
   ],
   "source": [
    "num = int(input(\"number is:\"))\n",
    "\n",
    "if (num % 2 == 0):\n",
    "    print(\"even\")\n",
    "else:\n",
    "    print(\"odd\")\n"
   ]
  },
  {
   "cell_type": "code",
   "execution_count": 37,
   "metadata": {},
   "outputs": [
    {
     "name": "stdout",
     "output_type": "stream",
     "text": [
      "enter 1no. 56\n"
     ]
    }
   ],
   "source": [
    "num1 = int(input(\"enter 1no.\"))\n",
    "num2 = int(input(\"enter 2no.\"))\n",
    "num3 = int(input(\"enter 3no.\"))\n",
    "num4 = int(input(\"enter 4no.\"))\n",
    "if (num1 > num2 and num1>num3 and num1>num4):\n",
    "    print(\"enter 1no.\", num1)\n",
    "elif(num2>num1 and num2>num3 and num2>num4):\n",
    "    print(\"enter 2no.\" , num2)\n",
    "elif(num3>num1 and num3>num2 and num3>num4):\n",
    "    print(\"enter 3no.\" , num3)\n",
    "else:\n",
    "    print (\"enter 4no.\", num4)"
   ]
  },
  {
   "cell_type": "code",
   "execution_count": 39,
   "metadata": {},
   "outputs": [
    {
     "name": "stdout",
     "output_type": "stream",
     "text": [
      "not devide\n"
     ]
    }
   ],
   "source": [
    "number = int(input(\"enter no.\"))\n",
    "if (number%7 ==0 ):\n",
    "    print(\"yes devide by 7\")\n",
    "else:\n",
    "    print(\"not devide\")"
   ]
  },
  {
   "cell_type": "code",
   "execution_count": 43,
   "metadata": {},
   "outputs": [
    {
     "name": "stdout",
     "output_type": "stream",
     "text": [
      "[34.87, 56.8, 23.67, 56.45, 78.56]\n",
      "56.8\n",
      "5\n",
      "<class 'list'>\n"
     ]
    }
   ],
   "source": [
    "marks = [34.87,56.8,23.67,56.45,78.56]\n",
    "print(marks)\n",
    "print(marks[1])\n",
    "print(len(marks))\n",
    "print(type(marks))"
   ]
  },
  {
   "cell_type": "code",
   "execution_count": 50,
   "metadata": {},
   "outputs": [
    {
     "name": "stdout",
     "output_type": "stream",
     "text": [
      "1\n",
      "4\n",
      "<class 'tuple'>\n"
     ]
    }
   ],
   "source": [
    "'''list = [1,2,3,4,5]\n",
    "print(type(list))\n",
    "list[0] = 6\n",
    "print (list)'''\n",
    "tupple = (1,2,3,4,5,2,2,2)\n",
    "print(tupple.index(2))\n",
    "print(tupple.count(2))\n",
    "print(type(tupple))"
   ]
  },
  {
   "cell_type": "code",
   "execution_count": 55,
   "metadata": {},
   "outputs": [
    {
     "ename": "TypeError",
     "evalue": "'builtin_function_or_method' object is not subscriptable",
     "output_type": "error",
     "traceback": [
      "\u001b[1;31m---------------------------------------------------------------------------\u001b[0m",
      "\u001b[1;31mTypeError\u001b[0m                                 Traceback (most recent call last)",
      "Cell \u001b[1;32mIn[55], line 5\u001b[0m\n\u001b[0;32m      3\u001b[0m movie2 \u001b[38;5;241m=\u001b[39m \u001b[38;5;28minput\u001b[39m(\u001b[38;5;124m\"\u001b[39m\u001b[38;5;124menter second movie name:\u001b[39m\u001b[38;5;124m\"\u001b[39m)\n\u001b[0;32m      4\u001b[0m movie3 \u001b[38;5;241m=\u001b[39m \u001b[38;5;28minput\u001b[39m(\u001b[38;5;124m\"\u001b[39m\u001b[38;5;124menter third movie name:\u001b[39m\u001b[38;5;124m\"\u001b[39m)\n\u001b[1;32m----> 5\u001b[0m \u001b[43mmovie\u001b[49m\u001b[38;5;241;43m.\u001b[39;49m\u001b[43mappend\u001b[49m\u001b[43m[\u001b[49m\u001b[43mmovie1\u001b[49m\u001b[43m]\u001b[49m\n\u001b[0;32m      6\u001b[0m movie\u001b[38;5;241m.\u001b[39mappend[movie2]\n\u001b[0;32m      7\u001b[0m movie\u001b[38;5;241m.\u001b[39mappend[movie3]\n",
      "\u001b[1;31mTypeError\u001b[0m: 'builtin_function_or_method' object is not subscriptable"
     ]
    }
   ],
   "source": [
    "movie = []\n",
    "movie1 = input(\"enter first movie name:\")\n",
    "movie2 = input(\"enter second movie name:\")\n",
    "movie3 = input(\"enter third movie name:\")\n",
    "movie.append[movie1]\n",
    "movie.append[movie2]\n",
    "movie.append[movie3]\n",
    "print(movie)\n"
   ]
  },
  {
   "cell_type": "code",
   "execution_count": 66,
   "metadata": {},
   "outputs": [
    {
     "name": "stdout",
     "output_type": "stream",
     "text": [
      "its palindrome\n"
     ]
    }
   ],
   "source": [
    "list = [1,2,3,2,1]\n",
    "list_copy = list.copy()\n",
    "list_copy.reverse()\n",
    "if (list_copy == list):\n",
    "    print (\"its palindrome\")\n",
    "else:\n",
    "    print (\"not palindrome\")\n"
   ]
  },
  {
   "cell_type": "code",
   "execution_count": 70,
   "metadata": {},
   "outputs": [
    {
     "name": "stdout",
     "output_type": "stream",
     "text": [
      "['a', 'a', 'a', 'a', 'b', 'c', 'd', 'd']\n",
      "None\n"
     ]
    }
   ],
   "source": [
    "grade =[\"c\",\"d\",\"a\",\"d\",\"a\",\"a\",\"b\",\"a\"]\n",
    "grade.sort()\n",
    "print(grade)\n",
    "#print(grade.sort())\n",
    "#print(grade.count(\"a\"))\n"
   ]
  },
  {
   "cell_type": "code",
   "execution_count": 76,
   "metadata": {},
   "outputs": [
    {
     "name": "stdout",
     "output_type": "stream",
     "text": [
      "bansi 25\n",
      "<class 'dict'>\n",
      "{'name': 'bansi', 'age': 25, 'subjects': ['python'], 'no.': 3.9}\n"
     ]
    }
   ],
   "source": [
    "\n",
    "dic = {\n",
    "    \"name\" : \"bansi\",\n",
    "    \"age\" : 25,\n",
    "    \"subjects\" : [\"python\"],\n",
    "    \"no.\" : 3.9\n",
    "}\n",
    "print (dic[\"name\"],dic[\"age\"])\n",
    "print(type(dic))\n",
    "print(dic)"
   ]
  },
  {
   "cell_type": "code",
   "execution_count": 87,
   "metadata": {},
   "outputs": [
    {
     "ename": "TypeError",
     "evalue": "'list' object is not callable",
     "output_type": "error",
     "traceback": [
      "\u001b[1;31m---------------------------------------------------------------------------\u001b[0m",
      "\u001b[1;31mTypeError\u001b[0m                                 Traceback (most recent call last)",
      "Cell \u001b[1;32mIn[87], line 9\u001b[0m\n\u001b[0;32m      1\u001b[0m student \u001b[38;5;241m=\u001b[39m{\n\u001b[0;32m      2\u001b[0m     \u001b[38;5;124m\"\u001b[39m\u001b[38;5;124mname\u001b[39m\u001b[38;5;124m\"\u001b[39m : \u001b[38;5;124m\"\u001b[39m\u001b[38;5;124mbansi\u001b[39m\u001b[38;5;124m\"\u001b[39m,\n\u001b[0;32m      3\u001b[0m     \u001b[38;5;124m\"\u001b[39m\u001b[38;5;124msubjects\u001b[39m\u001b[38;5;124m\"\u001b[39m : {\n\u001b[1;32m   (...)\u001b[0m\n\u001b[0;32m      7\u001b[0m     }\n\u001b[0;32m      8\u001b[0m }\n\u001b[1;32m----> 9\u001b[0m \u001b[38;5;28mprint\u001b[39m(\u001b[38;5;28;43mlist\u001b[39;49m\u001b[43m(\u001b[49m\u001b[43mstudent\u001b[49m\u001b[38;5;241;43m.\u001b[39;49m\u001b[43mkeys\u001b[49m\u001b[43m(\u001b[49m\u001b[43m)\u001b[49m\u001b[43m)\u001b[49m)\n",
      "\u001b[1;31mTypeError\u001b[0m: 'list' object is not callable"
     ]
    }
   ],
   "source": [
    "student ={\n",
    "    \"name\" : \"bansi\",\n",
    "    \"subjects\" : {\n",
    "        \"excel\" : 98,\n",
    "        \"power bi\" : 87,\n",
    "        \"tableau\" : 99\n",
    "    }\n",
    "}\n",
    "print(list(student.keys()))"
   ]
  },
  {
   "cell_type": "code",
   "execution_count": 103,
   "metadata": {},
   "outputs": [
    {
     "name": "stdout",
     "output_type": "stream",
     "text": [
      "dict_values(['bansi', {'excel': 98, 'power bi': 87, 'tableau': 99}])\n",
      "dict_items([('name', 'bansi'), ('subjects', {'excel': 98, 'power bi': 87, 'tableau': 99})])\n",
      "bansi\n",
      "{'name': 'bansi', 'subjects': {'excel': 98, 'power bi': 87, 'tableau': 99}, 'city': 'ank'}\n"
     ]
    }
   ],
   "source": [
    "student ={\n",
    "    \"name\" : \"bansi\",\n",
    "    \"subjects\" : {\n",
    "        \"excel\" : 98,\n",
    "        \"power bi\" : 87,\n",
    "        \"tableau\" : 99\n",
    "    }\n",
    "}\n",
    "print(student.values())\n",
    "print(student.items())\n",
    "print(student.get(\"name\"))\n",
    "student.update({\"city\" : \"ank\"})\n",
    "print(student)"
   ]
  },
  {
   "cell_type": "code",
   "execution_count": 109,
   "metadata": {},
   "outputs": [
    {
     "name": "stdout",
     "output_type": "stream",
     "text": [
      "{1, 2, 'hello', 'python', 'name', 'hii', 'my'}\n",
      "{1, 2, 'python'}\n",
      "{1, 2, 'hii', 'hello', 'python'}\n",
      "<class 'set'>\n"
     ]
    }
   ],
   "source": [
    "\n",
    "collection = {1,2,\"hii\",\"hello\",\"python\"}\n",
    "collection1 = {1,2,\"name\",\"my\",\"python\"}\n",
    "print(collection.union(collection1))\n",
    "print(collection.intersection(collection1))\n",
    "print(collection)\n",
    "print(type(collection))"
   ]
  },
  {
   "cell_type": "code",
   "execution_count": 116,
   "metadata": {},
   "outputs": [
    {
     "name": "stdout",
     "output_type": "stream",
     "text": [
      "{'table': ['a piece of furniture', 'list of facts and figures'], 'cat': 'a small animal'}\n"
     ]
    }
   ],
   "source": [
    "dic = {\n",
    "    \"table\" :[\"a piece of furniture\" , \"list of facts and figures\"],\n",
    "    \"cat\" : \"a small animal\"\n",
    "}\n",
    "print(dic)"
   ]
  },
  {
   "cell_type": "code",
   "execution_count": 123,
   "metadata": {},
   "outputs": [
    {
     "name": "stdout",
     "output_type": "stream",
     "text": [
      "6\n"
     ]
    }
   ],
   "source": [
    "classromm = {\n",
    "    \"python\" , \"java\" , \"c++\", \"python\" , \"javascript\" , \"java\" \"python\", \"java\", \"c++\", \"c\"\n",
    "}\n",
    "print(len(classromm))"
   ]
  },
  {
   "cell_type": "code",
   "execution_count": 126,
   "metadata": {},
   "outputs": [
    {
     "name": "stdout",
     "output_type": "stream",
     "text": [
      "{'phy': 34, 'maths': 78, 'eng': 56}\n"
     ]
    }
   ],
   "source": [
    "marks = {}\n",
    "a = int(input(\"enter phy.:\"))\n",
    "marks.update({\"phy\" : a})\n",
    "a = int(input(\"enter maths:\"))\n",
    "marks.update({\"maths\" : a})\n",
    "a = int(input(\"enter eng.:\"))\n",
    "marks.update({\"eng\" : a})\n",
    "\n",
    "print(marks)"
   ]
  },
  {
   "cell_type": "code",
   "execution_count": 128,
   "metadata": {},
   "outputs": [
    {
     "name": "stdout",
     "output_type": "stream",
     "text": [
      "{9, '9.0'}\n"
     ]
    }
   ],
   "source": [
    "store = {9,\"9.0\"}\n",
    "print(store)"
   ]
  },
  {
   "cell_type": "code",
   "execution_count": 17,
   "metadata": {},
   "outputs": [
    {
     "name": "stdout",
     "output_type": "stream",
     "text": [
      "heello 1\n",
      "2\n",
      "heello 2\n",
      "3\n",
      "heello 3\n",
      "4\n",
      "heello 4\n",
      "5\n",
      "heello 5\n",
      "6\n"
     ]
    }
   ],
   "source": [
    "count = 1\n",
    "while count<=5:\n",
    "    print(\"heello\" , count)\n",
    "    count+=1\n",
    "    print(count)"
   ]
  },
  {
   "cell_type": "code",
   "execution_count": 18,
   "metadata": {},
   "outputs": [],
   "source": [
    "no = 1\n",
    "while no >= 100:\n",
    "    print (no)\n",
    "    no += 1\n",
    "    '''no = 100\n",
    "while no <= 1:\n",
    "    print(no)\n",
    "    no-=1'''"
   ]
  },
  {
   "cell_type": "code",
   "execution_count": 21,
   "metadata": {},
   "outputs": [
    {
     "name": "stdout",
     "output_type": "stream",
     "text": [
      "4\n",
      "8\n",
      "12\n",
      "16\n",
      "20\n",
      "24\n",
      "28\n",
      "32\n",
      "36\n",
      "40\n"
     ]
    }
   ],
   "source": [
    "n = int(input(\"enter no.\"))\n",
    "i = 1\n",
    "while i <= 10:\n",
    "    print(n*i)\n",
    "    i += 1"
   ]
  },
  {
   "cell_type": "code",
   "execution_count": 23,
   "metadata": {},
   "outputs": [
    {
     "name": "stdout",
     "output_type": "stream",
     "text": [
      "1 0\n",
      "4 1\n",
      "9 2\n",
      "16 3\n",
      "25 4\n",
      "36 5\n",
      "49 6\n",
      "64 7\n",
      "81 8\n",
      "100 9\n"
     ]
    }
   ],
   "source": [
    "num = [1,4,9,16,25,36,49,64,81,100]\n",
    "idx = 0\n",
    "while idx < len(num):\n",
    "    print(num[idx] , idx)\n",
    "    idx += 1"
   ]
  },
  {
   "cell_type": "code",
   "execution_count": 29,
   "metadata": {},
   "outputs": [
    {
     "name": "stdout",
     "output_type": "stream",
     "text": [
      "found 3\n"
     ]
    }
   ],
   "source": [
    "num = (1,4,9,16,25,36,49,64,81,100)\n",
    "x = 16\n",
    "i = 0\n",
    "while i < len(num):\n",
    "    if ( num[i] == x):\n",
    "        print(\"found\", i )\n",
    "    i += 1"
   ]
  },
  {
   "cell_type": "code",
   "execution_count": 31,
   "metadata": {},
   "outputs": [
    {
     "name": "stdout",
     "output_type": "stream",
     "text": [
      "1\n",
      "3\n",
      "5\n",
      "7\n",
      "9\n"
     ]
    }
   ],
   "source": [
    "i=1\n",
    "while i <= 10:\n",
    "    if(i%2==0):\n",
    "        i+=1\n",
    "        continue\n",
    "    print(i)\n",
    "    i+=1    "
   ]
  },
  {
   "cell_type": "code",
   "execution_count": null,
   "metadata": {},
   "outputs": [],
   "source": []
  }
 ],
 "metadata": {
  "kernelspec": {
   "display_name": "Python 3",
   "language": "python",
   "name": "python3"
  },
  "language_info": {
   "codemirror_mode": {
    "name": "ipython",
    "version": 3
   },
   "file_extension": ".py",
   "mimetype": "text/x-python",
   "name": "python",
   "nbconvert_exporter": "python",
   "pygments_lexer": "ipython3",
   "version": "3.10.0"
  }
 },
 "nbformat": 4,
 "nbformat_minor": 2
}
