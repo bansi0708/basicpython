{
 "cells": [
  {
   "cell_type": "code",
   "execution_count": 64,
   "metadata": {},
   "outputs": [
    {
     "name": "stdout",
     "output_type": "stream",
     "text": [
      "welcome bansi\n",
      "age is : 25\n",
      "marks is : 97\n"
     ]
    }
   ],
   "source": [
    "name = input(\"name :\")\n",
    "age = input(\"age :\")\n",
    "marks = input(\"marks :\")\n",
    "print(\"welcome\" , name)\n",
    "print (\"age is :\" , age)\n",
    "print (\"marks is :\" , marks)"
   ]
  },
  {
   "cell_type": "code",
   "execution_count": 63,
   "metadata": {},
   "outputs": [
    {
     "name": "stdout",
     "output_type": "stream",
     "text": [
      "welcome bansi\n"
     ]
    }
   ],
   "source": [
    "name = input(\"my name is:\")\n",
    "print(\"welcome\" , name)"
   ]
  },
  {
   "cell_type": "code",
   "execution_count": 11,
   "metadata": {},
   "outputs": [
    {
     "name": "stdout",
     "output_type": "stream",
     "text": [
      "1\n"
     ]
    }
   ],
   "source": [
    "str = (\"i m learning with apna collage\")\n",
    "print(str.count(\"with\"))"
   ]
  },
  {
   "cell_type": "code",
   "execution_count": 74,
   "metadata": {},
   "outputs": [
    {
     "name": "stdout",
     "output_type": "stream",
     "text": [
      "True\n"
     ]
    },
    {
     "data": {
      "text/plain": [
       "'if (a>=b):\\n    print(\"true\")\\nelse:\\n    print(\"false\")'"
      ]
     },
     "execution_count": 74,
     "metadata": {},
     "output_type": "execute_result"
    }
   ],
   "source": [
    "a = int(input(\"enter no.\"))\n",
    "b = int(input(\"enter no.\"))\n",
    "print (a>=b)\n",
    "'''if (a>=b):\n",
    "    print(\"true\")\n",
    "else:\n",
    "    print(\"false\")'''"
   ]
  },
  {
   "cell_type": "code",
   "execution_count": 68,
   "metadata": {},
   "outputs": [
    {
     "name": "stdout",
     "output_type": "stream",
     "text": [
      "avg is: 3.5\n"
     ]
    }
   ],
   "source": [
    "a = float(input(\"enter no\"))\n",
    "b = float(input(\"enter no.\"))\n",
    "c = (a + b) / 2\n",
    "print(\"avg is:\", c)\n"
   ]
  },
  {
   "cell_type": "code",
   "execution_count": 75,
   "metadata": {},
   "outputs": [
    {
     "name": "stdout",
     "output_type": "stream",
     "text": [
      "11\n"
     ]
    }
   ],
   "source": [
    "x = \"bansi shani\" \n",
    "print(len(x))\n"
   ]
  },
  {
   "cell_type": "code",
   "execution_count": 46,
   "metadata": {},
   "outputs": [
    {
     "name": "stdout",
     "output_type": "stream",
     "text": [
      "go\n"
     ]
    }
   ],
   "source": [
    "light = input(\"light :\")\n",
    "#light = \"red\"\n",
    "if (light == \"red\"):\n",
    "    print (\"stop\")\n",
    "elif (light == \"green\"):\n",
    "    print(\"go\")\n",
    "else:\n",
    "    print(\"light is broken\")\n",
    "\n"
   ]
  },
  {
   "cell_type": "code",
   "execution_count": 26,
   "metadata": {},
   "outputs": [
    {
     "name": "stdout",
     "output_type": "stream",
     "text": [
      "not eligiable\n"
     ]
    }
   ],
   "source": [
    "x=25\n",
    "if x<18:\n",
    "    print(\"eligiable\")\n",
    "else:\n",
    "    print(\"not eligiable\")"
   ]
  },
  {
   "cell_type": "code",
   "execution_count": 52,
   "metadata": {},
   "outputs": [
    {
     "name": "stdout",
     "output_type": "stream",
     "text": [
      "yes\n"
     ]
    }
   ],
   "source": [
    "food = input(\"food:\")\n",
    "eat = \"yes\" if food == \"cake\" else \"no\"\n",
    "print (eat)"
   ]
  },
  {
   "cell_type": "code",
   "execution_count": 60,
   "metadata": {},
   "outputs": [
    {
     "name": "stdout",
     "output_type": "stream",
     "text": [
      "5\n"
     ]
    }
   ],
   "source": [
    "a=1\n",
    "b=\"4\" \n",
    "c= int(b)\n",
    "sum=a+c\n",
    "print(sum)"
   ]
  },
  {
   "cell_type": "code",
   "execution_count": 76,
   "metadata": {},
   "outputs": [
    {
     "name": "stdout",
     "output_type": "stream",
     "text": [
      "0\n",
      "1\n",
      "2\n",
      "3\n",
      "4\n"
     ]
    }
   ],
   "source": [
    "for i in range(5):\n",
    "    print(i)"
   ]
  },
  {
   "cell_type": "code",
   "execution_count": 28,
   "metadata": {},
   "outputs": [
    {
     "name": "stdout",
     "output_type": "stream",
     "text": [
      "0\n",
      "1\n",
      "2\n",
      "3\n",
      "4\n"
     ]
    }
   ],
   "source": [
    "i = 0\n",
    "while i<5:\n",
    "        print(i)\n",
    "        i+=1"
   ]
  },
  {
   "cell_type": "code",
   "execution_count": 29,
   "metadata": {},
   "outputs": [
    {
     "name": "stdout",
     "output_type": "stream",
     "text": [
      "9\n"
     ]
    }
   ],
   "source": [
    "a = 5\n",
    "b = a+4\n",
    "print(b)"
   ]
  },
  {
   "cell_type": "code",
   "execution_count": 1,
   "metadata": {},
   "outputs": [
    {
     "name": "stdout",
     "output_type": "stream",
     "text": [
      "8\n"
     ]
    }
   ],
   "source": [
    "def add_numbers(a,b=5):\n",
    "    return a+b\n",
    "result = add_numbers(3)\n",
    "print(result)"
   ]
  },
  {
   "cell_type": "code",
   "execution_count": 30,
   "metadata": {},
   "outputs": [
    {
     "name": "stdout",
     "output_type": "stream",
     "text": [
      "12\n"
     ]
    }
   ],
   "source": [
    "def add(a,b):\n",
    "    c=a+b\n",
    "    print(c)\n",
    "a=6\n",
    "b=6\n",
    "add(a,b)"
   ]
  },
  {
   "cell_type": "code",
   "execution_count": 31,
   "metadata": {},
   "outputs": [
    {
     "name": "stdout",
     "output_type": "stream",
     "text": [
      "8\n",
      "8\n"
     ]
    }
   ],
   "source": [
    "def add(a,b):\n",
    "    c=a+b\n",
    "    print(c)\n",
    "a=4\n",
    "b=4\n",
    "d=4\n",
    "add(a,b)\n",
    "e=4\n",
    "g=4\n",
    "add(e,g)"
   ]
  },
  {
   "cell_type": "code",
   "execution_count": 32,
   "metadata": {},
   "outputs": [
    {
     "name": "stdout",
     "output_type": "stream",
     "text": [
      "['shail', 'shbhai shani']\n",
      "bhailebhbhai bhani\n"
     ]
    }
   ],
   "source": [
    "fathername = \"shaileshbhai shani\"\n",
    "print(fathername.split(\"e\"))\n",
    "print(fathername.replace(\"sh\",\"bh\"))"
   ]
  },
  {
   "cell_type": "code",
   "execution_count": 33,
   "metadata": {},
   "outputs": [
    {
     "name": "stdout",
     "output_type": "stream",
     "text": [
      "9\n"
     ]
    }
   ],
   "source": [
    "# a=\"bansi\" \n",
    "b=5 \n",
    "try:\n",
    "    print(a+b)\n",
    "except:\n",
    "    print(\"this value is string\")"
   ]
  },
  {
   "cell_type": "code",
   "execution_count": 34,
   "metadata": {},
   "outputs": [
    {
     "name": "stdout",
     "output_type": "stream",
     "text": [
      "bansi  shani\n"
     ]
    }
   ],
   "source": [
    "num = \"bansi\"\n",
    "surnm = \"shani\"\n",
    "fullname = num+\"  \"+surnm\n",
    "print(fullname)"
   ]
  },
  {
   "cell_type": "code",
   "execution_count": 35,
   "metadata": {},
   "outputs": [
    {
     "name": "stdout",
     "output_type": "stream",
     "text": [
      "shaileshbhai shani\n",
      "SHAILESHBHAI SHANI\n"
     ]
    },
    {
     "data": {
      "text/plain": [
       "'upperfathername = fathername.upper()\\nprint(upperfathername)'"
      ]
     },
     "execution_count": 35,
     "metadata": {},
     "output_type": "execute_result"
    }
   ],
   "source": [
    "fathername = \"Shaileshbhai SHani\"\n",
    "print(fathername.lower())\n",
    "\"\"\"lowerfathername = fathername.lower()\n",
    "print(lowerfathername)\"\"\"\n",
    "print(fathername.upper())\n",
    "\"\"\"upperfathername = fathername.upper()\n",
    "print(upperfathername)\"\"\"\n"
   ]
  },
  {
   "cell_type": "code",
   "execution_count": 36,
   "metadata": {},
   "outputs": [
    {
     "name": "stdout",
     "output_type": "stream",
     "text": [
      "8 bansi\n"
     ]
    }
   ],
   "source": [
    "a = 4\n",
    "b = 4\n",
    "sum = a+b\n",
    "print(sum, \"bansi\")"
   ]
  },
  {
   "cell_type": "code",
   "execution_count": 37,
   "metadata": {},
   "outputs": [
    {
     "name": "stdout",
     "output_type": "stream",
     "text": [
      "10 20 30\n"
     ]
    }
   ],
   "source": [
    "a,b,c=10,20,30\n",
    "print(a,b,c)"
   ]
  },
  {
   "cell_type": "code",
   "execution_count": 38,
   "metadata": {},
   "outputs": [
    {
     "name": "stdout",
     "output_type": "stream",
     "text": [
      "<class 'int'>\n",
      "2362368917776\n"
     ]
    }
   ],
   "source": [
    "a=2\n",
    "print(type(a))\n",
    "print(id(a))"
   ]
  },
  {
   "cell_type": "markdown",
   "metadata": {},
   "source": []
  },
  {
   "cell_type": "code",
   "execution_count": 1,
   "metadata": {},
   "outputs": [
    {
     "name": "stdout",
     "output_type": "stream",
     "text": [
      "hello world\n"
     ]
    }
   ],
   "source": [
    "print(\"hello world\")"
   ]
  },
  {
   "cell_type": "code",
   "execution_count": null,
   "metadata": {},
   "outputs": [],
   "source": []
  }
 ],
 "metadata": {
  "kernelspec": {
   "display_name": "Python 3",
   "language": "python",
   "name": "python3"
  },
  "language_info": {
   "codemirror_mode": {
    "name": "ipython",
    "version": 3
   },
   "file_extension": ".py",
   "mimetype": "text/x-python",
   "name": "python",
   "nbconvert_exporter": "python",
   "pygments_lexer": "ipython3",
   "version": "3.10.0"
  }
 },
 "nbformat": 4,
 "nbformat_minor": 2
}
